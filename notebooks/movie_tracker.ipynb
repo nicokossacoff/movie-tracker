{
 "cells": [
  {
   "cell_type": "markdown",
   "metadata": {},
   "source": [
    "# 1. Imports"
   ]
  },
  {
   "cell_type": "code",
   "execution_count": 1,
   "metadata": {},
   "outputs": [],
   "source": [
    "import pandas as pd\n",
    "import numpy as np\n",
    "import matplotlib.pyplot as plt\n",
    "import seaborn as sns\n",
    "from utils.movie_tracker import Database"
   ]
  },
  {
   "cell_type": "code",
   "execution_count": 2,
   "metadata": {},
   "outputs": [],
   "source": [
    "# Initialize the database\n",
    "db = Database(db_name='movie_tracker.db')\n",
    "\n",
    "# Connect to the database\n",
    "db.connect()"
   ]
  },
  {
   "cell_type": "code",
   "execution_count": 3,
   "metadata": {},
   "outputs": [
    {
     "name": "stdout",
     "output_type": "stream",
     "text": [
      "Creating table...\n",
      "Table created successfully.\n"
     ]
    }
   ],
   "source": [
    "# Create table if not exists\n",
    "db.create_table(table_name='movies')"
   ]
  },
  {
   "cell_type": "code",
   "execution_count": 12,
   "metadata": {},
   "outputs": [
    {
     "name": "stdout",
     "output_type": "stream",
     "text": [
      "Adding 'Y Tu Mamá También' into the database...\n",
      "Movie 'Y Tu Mamá También' added successfully.\n"
     ]
    }
   ],
   "source": [
    "db.add_movie(\n",
    "    table_name='movies', \n",
    "    title='Y Tu Mamá También', \n",
    "    director='Alfonso Cuarón',\n",
    "    release_date='2001-10-06',\n",
    "    genre='Romance',\n",
    "    rating=5,\n",
    "    watched_date='2025-01-13'\n",
    ")"
   ]
  },
  {
   "cell_type": "code",
   "execution_count": 13,
   "metadata": {},
   "outputs": [
    {
     "name": "stdout",
     "output_type": "stream",
     "text": [
      "(1, \"Scooby-Doo! and the Witch's Ghost\", 'Jim Stenstrum', '1999-10-05', 'Animation', 3.0, '2025-01-01')\n",
      "(2, 'Taxi Driver', 'Martin Scorsese', '1976-02-08', 'Crime, Drama', 4.5, '2025-01-04')\n",
      "(3, 'Hannibal', 'Ridley Scott', '2001-02-11', 'Thriller', 2.0, '2025-01-08')\n",
      "(4, 'Batman: Mask of the Phantasm', 'Bruce Timm', '1993-12-25', 'Drama', 4.0, '2025-01-08')\n",
      "(5, 'The Departed', 'Martin Scorsese', '2006-09-06', 'Crime', 4.0, '2025-01-12')\n",
      "(6, 'Y Tu Mamá También', 'Alfonso Cuarón', '2001-10-06', 'Romance', 5.0, '2025-01-13')\n"
     ]
    }
   ],
   "source": [
    "db.get_movies(table_name='movies')"
   ]
  },
  {
   "cell_type": "code",
   "execution_count": null,
   "metadata": {},
   "outputs": [],
   "source": []
  }
 ],
 "metadata": {
  "kernelspec": {
   "display_name": "base",
   "language": "python",
   "name": "python3"
  },
  "language_info": {
   "codemirror_mode": {
    "name": "ipython",
    "version": 3
   },
   "file_extension": ".py",
   "mimetype": "text/x-python",
   "name": "python",
   "nbconvert_exporter": "python",
   "pygments_lexer": "ipython3",
   "version": "3.12.7"
  }
 },
 "nbformat": 4,
 "nbformat_minor": 2
}
